{
 "cells": [
  {
   "cell_type": "code",
   "execution_count": 1,
   "metadata": {},
   "outputs": [
    {
     "name": "stderr",
     "output_type": "stream",
     "text": [
      "Using TensorFlow backend.\n"
     ]
    }
   ],
   "source": [
    "from tensorflow.python.client import device_lib\n",
    "device_lib.list_local_devices()\n",
    "import tensorflow as Graph\n",
    "Graph.device(\"/device:CPU:0\")\n",
    "import numpy as np\n",
    "\n",
    "import h5py\n",
    "import time\n",
    "import cv2\n",
    "\n",
    "import matplotlib.pylab as plt\n",
    "\n",
    "import keras.backend as K\n",
    "from keras.utils import generic_utils\n",
    "from keras.optimizers import Adam, SGD\n",
    "\n",
    "from keras.models import Model\n",
    "from keras.layers.core import Flatten, Dense, Dropout, Activation, Lambda, Reshape\n",
    "from keras.layers.convolutional import Conv2D, Deconv2D, ZeroPadding2D, UpSampling2D\n",
    "from keras.layers import Input, Concatenate\n",
    "from keras.layers.advanced_activations import LeakyReLU\n",
    "from keras.layers.normalization import BatchNormalization\n",
    "from keras.layers.pooling import MaxPooling2D\n",
    "import keras.backend as K\n",
    "from keras.models import load_model\n",
    "\n",
    "\n",
    "\n",
    "%matplotlib inline"
   ]
  },
  {
   "cell_type": "code",
   "execution_count": 2,
   "metadata": {},
   "outputs": [],
   "source": [
    "def normalization(X):\n",
    "    return X / 127.5 - 1\n",
    "\n",
    "def load_data(datasetpath):\n",
    "    with h5py.File(datasetpath, \"r\") as hf:\n",
    "        X_full_train = hf[\"train_data_raw\"][:].astype(np.float32)\n",
    "        X_full_train = normalization(X_full_train)\n",
    "        X_sketch_train = hf[\"train_data_gen\"][:].astype(np.float32)\n",
    "        X_sketch_train = normalization(X_sketch_train)\n",
    "        X_full_val = hf[\"val_data_raw\"][:].astype(np.float32)\n",
    "        X_full_val = normalization(X_full_val)\n",
    "        X_sketch_val = hf[\"val_data_gen\"][:].astype(np.float32)\n",
    "        X_sketch_val = normalization(X_sketch_val)\n",
    "        return X_full_train, X_sketch_train, X_full_val, X_sketch_val"
   ]
  },
  {
   "cell_type": "code",
   "execution_count": 3,
   "metadata": {},
   "outputs": [],
   "source": [
    "def train():\n",
    "    print(\"load data\")\n",
    "    rawImage, procImage, rawImage_val, procImage_val = load_data(datasetpath)\n",
    "\n",
    "    img_shape = rawImage.shape[-3:]\n",
    "    patch_num = (img_shape[0] // patch_size) * (img_shape[1] // patch_size)\n",
    "    disc_img_shape = (patch_size, patch_size, procImage.shape[-1])\n",
    "\n",
    "\n",
    "    print(\"load generator model\")\n",
    "    generator_model = load_model(generator_path)\n",
    "\n",
    "    use = rawImage_val\n",
    "    use2 = rawImage\n",
    " \n",
    "    imgs = generator_model.predict(use)\n",
    "    for i,img in enumerate(imgs):\n",
    "        img = inverse_normalization(img)\n",
    "        plt.imshow(img)\n",
    "        plt.axis('off')\n",
    "        plt.savefig(\"output/testData/\"+str(i)+\".jpg\")\n",
    "        plt.clf()\n",
    "        plt.close()\n",
    "        \n",
    "    imgs = generator_model.predict(use2)\n",
    "    for i,img in enumerate(imgs):\n",
    "        img = inverse_normalization(img)\n",
    "        plt.imshow(img)\n",
    "        plt.axis('off')\n",
    "        plt.savefig(\"output/T_Data/\"+str(i)+\".jpg\")\n",
    "        plt.clf()\n",
    "        plt.close()\n",
    "        \n",
    "    plt.imshow(use[0])\n",
    "    plt.axis('off')\n",
    "    plt.savefig(\"output/T_Data/exem0.jpg\")\n",
    "    plt.clf()\n",
    "    plt.close()"
   ]
  },
  {
   "cell_type": "code",
   "execution_count": 4,
   "metadata": {},
   "outputs": [],
   "source": [
    "def l1_loss(y_true, y_pred):\n",
    "    return K.sum(K.abs(y_pred - y_true), axis=-1)\n",
    "\n",
    "def inverse_normalization(X):\n",
    "    return (X + 1.) / 2.\n",
    "\n",
    "def to3d(X):\n",
    "    if X.shape[-1]==3: return X\n",
    "    b = X.transpose(3,1,2,0)\n",
    "    c = np.array([b[0],b[0],b[0]])\n",
    "    return c.transpose(3,1,2,0)"
   ]
  },
  {
   "cell_type": "code",
   "execution_count": 5,
   "metadata": {},
   "outputs": [
    {
     "name": "stdout",
     "output_type": "stream",
     "text": [
      "load data\n",
      "load generator model\n",
      "WARNING:tensorflow:From C:\\ProgramData\\Anaconda3\\lib\\site-packages\\tensorflow\\python\\framework\\op_def_library.py:263: colocate_with (from tensorflow.python.framework.ops) is deprecated and will be removed in a future version.\n",
      "Instructions for updating:\n",
      "Colocations handled automatically by placer.\n",
      "WARNING:tensorflow:From C:\\ProgramData\\Anaconda3\\lib\\site-packages\\keras\\backend\\tensorflow_backend.py:3445: calling dropout (from tensorflow.python.ops.nn_ops) with keep_prob is deprecated and will be removed in a future version.\n",
      "Instructions for updating:\n",
      "Please use `rate` instead of `keep_prob`. Rate should be set to `rate = 1 - keep_prob`.\n",
      "WARNING:tensorflow:From C:\\ProgramData\\Anaconda3\\lib\\site-packages\\tensorflow\\python\\ops\\math_ops.py:3066: to_int32 (from tensorflow.python.ops.math_ops) is deprecated and will be removed in a future version.\n",
      "Instructions for updating:\n",
      "Use tf.cast instead.\n"
     ]
    },
    {
     "name": "stderr",
     "output_type": "stream",
     "text": [
      "C:\\ProgramData\\Anaconda3\\lib\\site-packages\\keras\\engine\\saving.py:327: UserWarning: Error in loading the saved optimizer state. As a result, your model is starting with a freshly initialized optimizer.\n",
      "  warnings.warn('Error in loading the saved optimizer '\n",
      "Clipping input data to the valid range for imshow with RGB data ([0..1] for floats or [0..255] for integers).\n"
     ]
    },
    {
     "name": "stdout",
     "output_type": "stream",
     "text": [
      "END\n"
     ]
    }
   ],
   "source": [
    "datasetpath = './output/datasetimages.hdf5'\n",
    "generator_path = \"backup/e_1000,64x64/output/generator_data/generator_model.h5\"\n",
    "patch_size = 32\n",
    "batch_size = 16\n",
    "epoch = 1000\n",
    "train()\n",
    "print(\"END\")"
   ]
  },
  {
   "cell_type": "code",
   "execution_count": null,
   "metadata": {},
   "outputs": [],
   "source": []
  }
 ],
 "metadata": {
  "kernelspec": {
   "display_name": "Python 3",
   "language": "python",
   "name": "python3"
  },
  "language_info": {
   "codemirror_mode": {
    "name": "ipython",
    "version": 3
   },
   "file_extension": ".py",
   "mimetype": "text/x-python",
   "name": "python",
   "nbconvert_exporter": "python",
   "pygments_lexer": "ipython3",
   "version": "3.7.1"
  }
 },
 "nbformat": 4,
 "nbformat_minor": 2
}
